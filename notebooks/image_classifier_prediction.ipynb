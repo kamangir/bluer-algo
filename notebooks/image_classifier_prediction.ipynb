{
 "cells": [
  {
   "attachments": {},
   "cell_type": "markdown",
   "metadata": {},
   "source": [
    "# 🪄 image_classifier/prediction"
   ]
  },
  {
   "cell_type": "code",
   "execution_count": 1,
   "metadata": {},
   "outputs": [
    {
     "name": "stderr",
     "output_type": "stream",
     "text": [
      "🌀  bluer_sandbox-5.185.1.bluer_ai-12.208.1.bluer_objects-6.218.1.bluer_options-5.144.1.torch-2.2.2.Python 3.12.9.Darwin 23.6.0..Jupyter-Notebook,\n",
      "built on 02 July 2025, 09:16:12\n"
     ]
    }
   ],
   "source": [
    "from bluer_options import string\n",
    "from bluer_objects import objects, testing\n",
    "from bluer_sandbox import notebooks\n",
    "\n",
    "from bluer_sandbox.host import signature\n",
    "from bluer_sandbox.logger import logger\n",
    "\n",
    "logger.info(f\"{'.'.join(signature())},\\nbuilt on {string.pretty_date()}\")"
   ]
  },
  {
   "cell_type": "code",
   "execution_count": 2,
   "metadata": {},
   "outputs": [
    {
     "name": "stderr",
     "output_type": "stream",
     "text": [
      "🌀  📂 image_classifier-prediction-2025-07-02-09-16-12-xtemhr\n"
     ]
    }
   ],
   "source": [
    "object_name = objects.unique_object(\"image_classifier-prediction\")"
   ]
  },
  {
   "attachments": {},
   "cell_type": "markdown",
   "metadata": {},
   "source": [
    "---"
   ]
  },
  {
   "cell_type": "code",
   "execution_count": 3,
   "metadata": {},
   "outputs": [
    {
     "name": "stderr",
     "output_type": "stream",
     "text": [
      "🌀  Hello World! 🪄\n"
     ]
    }
   ],
   "source": [
    "logger.info(\"Hello World! 🪄\")"
   ]
  },
  {
   "attachments": {},
   "cell_type": "markdown",
   "metadata": {},
   "source": [
    "---"
   ]
  },
  {
   "cell_type": "code",
   "execution_count": 4,
   "metadata": {},
   "outputs": [
    {
     "name": "stderr",
     "output_type": "stream",
     "text": [
      "100%|██████████| 1/1 [00:00<00:00, 53.25it/s]\n",
      "🌀  ⏺️  image_classifier-prediction-2025-07-02-09-16-12-xtemhr | 00001\n",
      "🌀  ⏹️  image_classifier-prediction-2025-07-02-09-16-12-xtemhr\n"
     ]
    }
   ],
   "source": [
    "assert notebooks.upload(object_name)"
   ]
  },
  {
   "cell_type": "code",
   "execution_count": 5,
   "metadata": {},
   "outputs": [],
   "source": [
    "# END"
   ]
  }
 ],
 "metadata": {
  "kernelspec": {
   "display_name": "base",
   "language": "python",
   "name": "python3"
  },
  "language_info": {
   "codemirror_mode": {
    "name": "ipython",
    "version": 3
   },
   "file_extension": ".py",
   "mimetype": "text/x-python",
   "name": "python",
   "nbconvert_exporter": "python",
   "pygments_lexer": "ipython3",
   "version": "3.12.9"
  },
  "toc": {
   "base_numbering": 1,
   "nav_menu": {},
   "number_sections": true,
   "sideBar": true,
   "skip_h1_title": false,
   "title_cell": "Table of Contents",
   "title_sidebar": "Contents",
   "toc_cell": false,
   "toc_position": {},
   "toc_section_display": true,
   "toc_window_display": false
  }
 },
 "nbformat": 4,
 "nbformat_minor": 2
}
