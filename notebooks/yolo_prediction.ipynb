{
 "cells": [
  {
   "attachments": {},
   "cell_type": "markdown",
   "metadata": {},
   "source": [
    "# 🪄 yolo/prediction"
   ]
  },
  {
   "cell_type": "code",
   "execution_count": 1,
   "metadata": {},
   "outputs": [
    {
     "name": "stderr",
     "output_type": "stream",
     "text": [
      "/Users/kamangir/miniconda3/lib/python3.12/site-packages/tqdm/auto.py:21: TqdmWarning: IProgress not found. Please update jupyter and ipywidgets. See https://ipywidgets.readthedocs.io/en/stable/user_install.html\n",
      "  from .autonotebook import tqdm as notebook_tqdm\n",
      "🪄  bluer_algo-4.387.1.bluer_ai-12.259.1.bluer_objects-6.258.1.bluer_options-5.164.1.torch-2.2.2.Python 3.12.9.Darwin 23.6.0..Jupyter-Notebook,\n",
      "built on 15 September 2025, 12:12:03\n"
     ]
    }
   ],
   "source": [
    "import torch\n",
    "import time\n",
    "from torchvision import transforms\n",
    "import numpy as np\n",
    "from PIL import Image\n",
    "import matplotlib.pyplot as plt\n",
    "from ultralytics import YOLO\n",
    "\n",
    "from bluer_options import string\n",
    "from bluer_objects import objects, file\n",
    "from bluer_objects.metadata import get_from_object\n",
    "from bluer_objects import storage\n",
    "from bluer_sandbox import notebooks\n",
    "\n",
    "from bluer_algo.host import signature\n",
    "from bluer_algo.yolo.dataset.classes import YoloDataset\n",
    "from bluer_algo import env\n",
    "from bluer_algo.logger import logger\n",
    "\n",
    "logger.info(f\"{'.'.join(signature())},\\nbuilt on {string.pretty_date()}\")"
   ]
  },
  {
   "cell_type": "code",
   "execution_count": 2,
   "metadata": {},
   "outputs": [
    {
     "name": "stderr",
     "output_type": "stream",
     "text": [
      "🌀  📂 yolo-prediction-2025-09-15-12-12-03-n4zl6g\n"
     ]
    }
   ],
   "source": [
    "prediction_object_name = objects.unique_object(\"yolo-prediction\")"
   ]
  },
  {
   "attachments": {},
   "cell_type": "markdown",
   "metadata": {},
   "source": [
    "---"
   ]
  },
  {
   "cell_type": "code",
   "execution_count": 3,
   "metadata": {},
   "outputs": [],
   "source": [
    "dataset_object_name = env.BLUER_ALGO_COCO128_TEST_DATASET\n",
    "# assert storage.download(dataset_object_name)"
   ]
  },
  {
   "cell_type": "code",
   "execution_count": 4,
   "metadata": {},
   "outputs": [
    {
     "name": "stderr",
     "output_type": "stream",
     "text": [
      "🪄  found 128 image(s).\n",
      "🪄  found 128 label(s).\n",
      "🪄  missing 2 image(s): 000000000508, 000000000250\n",
      "🪄  missing 2 label(s): 000000000659, 000000000656\n",
      "🪄  YoloDataset, 126 record(s),  80 class(es): person, bicycle, car, motorcycle, airplane, ...\n"
     ]
    }
   ],
   "source": [
    "dataset = YoloDataset(object_name=dataset_object_name)\n",
    "assert dataset.valid"
   ]
  },
  {
   "cell_type": "markdown",
   "metadata": {},
   "source": [
    "---"
   ]
  },
  {
   "cell_type": "code",
   "execution_count": 5,
   "metadata": {},
   "outputs": [],
   "source": [
    "model_object_name = env.BLUER_ALGO_COCO128_TEST_MODEL\n",
    "# assert storage.download(model_object_name)"
   ]
  },
  {
   "cell_type": "code",
   "execution_count": 9,
   "metadata": {},
   "outputs": [],
   "source": [
    "model_filename = objects.path_of(\n",
    "    object_name=model_object_name,\n",
    "    filename=\"train/weights/best.pt\",\n",
    ")\n",
    "\n",
    "model = YOLO(model_filename)"
   ]
  },
  {
   "cell_type": "markdown",
   "metadata": {},
   "source": [
    "---"
   ]
  },
  {
   "cell_type": "code",
   "execution_count": 12,
   "metadata": {},
   "outputs": [
    {
     "data": {
      "text/plain": [
       "'000000000612'"
      ]
     },
     "execution_count": 12,
     "metadata": {},
     "output_type": "execute_result"
    }
   ],
   "source": [
    "dataset.list_of_records[0]"
   ]
  },
  {
   "cell_type": "code",
   "execution_count": null,
   "metadata": {},
   "outputs": [],
   "source": [
    "assert False"
   ]
  },
  {
   "cell_type": "code",
   "execution_count": null,
   "metadata": {},
   "outputs": [],
   "source": [
    "test_row = dataset.df[dataset.df[\"subset\"] == \"test\"].sample(n=1)\n",
    "logger.info(f\"test_row: {test_row}\")\n",
    "\n",
    "success, image = file.load_image(\n",
    "    objects.path_of(\n",
    "        object_name=dataset_object_name,\n",
    "        filename=test_row[\"filename\"].values[0],\n",
    "    )\n",
    ")\n",
    "assert success\n",
    "\n",
    "class_index = test_row[\"class_index\"].values[0]"
   ]
  },
  {
   "cell_type": "code",
   "execution_count": null,
   "metadata": {},
   "outputs": [],
   "source": [
    "# np_img is shape (H, W, 3) in RGB\n",
    "assert isinstance(image, np.ndarray)\n",
    "assert image.ndim == 3 and image.shape[2] == 3\n",
    "\n",
    "elapsed_time = time.time()\n",
    "# Convert to PIL for transforms\n",
    "image_ = Image.fromarray(image.astype(\"uint8\"))\n",
    "\n",
    "# Apply same transform as training\n",
    "transform = transforms.Compose([\n",
    "    transforms.Resize((100, 100)),\n",
    "    transforms.ToTensor(),\n",
    "])\n",
    "input_tensor = transform(image_).unsqueeze(0)  # Shape: [1, 3, 100, 100]\n",
    "\n",
    "with torch.no_grad():\n",
    "    output = model(input_tensor)\n",
    "    predicted_class = torch.argmax(output, dim=1).item()\n",
    "\n",
    "elapsed_time = time.time() - elapsed_time"
   ]
  },
  {
   "cell_type": "code",
   "execution_count": null,
   "metadata": {},
   "outputs": [],
   "source": [
    "message = \"prediction: {} [#{}] {}- took {}\".format(\n",
    "    dataset.dict_of_classes[predicted_class],\n",
    "    predicted_class,\n",
    "    \" (correct) \" if class_index == predicted_class else \n",
    "    \"<> {} [#{}] \".format(\n",
    "        dataset.dict_of_classes[class_index],\n",
    "        class_index,\n",
    "    ),\n",
    "    string.pretty_duration(\n",
    "        elapsed_time, \n",
    "        include_ms=True,\n",
    "        short=True,\n",
    "        ),\n",
    ")\n",
    "logger.info(message)\n",
    "\n",
    "plt.imshow(image)\n",
    "plt.title(message)\n",
    "plt.axis(\"off\")\n",
    "\n",
    "assert file.save_fig(\n",
    "    objects.path_of(\n",
    "        object_name=prediction_object_name,\n",
    "        filename=\"prediction.png\",\n",
    "    )\n",
    ")"
   ]
  },
  {
   "attachments": {},
   "cell_type": "markdown",
   "metadata": {},
   "source": [
    "---"
   ]
  },
  {
   "cell_type": "code",
   "execution_count": null,
   "metadata": {},
   "outputs": [],
   "source": [
    "assert notebooks.upload(prediction_object_name)"
   ]
  },
  {
   "cell_type": "code",
   "execution_count": null,
   "metadata": {},
   "outputs": [],
   "source": [
    "# END"
   ]
  }
 ],
 "metadata": {
  "kernelspec": {
   "display_name": "base",
   "language": "python",
   "name": "python3"
  },
  "language_info": {
   "codemirror_mode": {
    "name": "ipython",
    "version": 3
   },
   "file_extension": ".py",
   "mimetype": "text/x-python",
   "name": "python",
   "nbconvert_exporter": "python",
   "pygments_lexer": "ipython3",
   "version": "3.12.9"
  },
  "toc": {
   "base_numbering": 1,
   "nav_menu": {},
   "number_sections": true,
   "sideBar": true,
   "skip_h1_title": false,
   "title_cell": "Table of Contents",
   "title_sidebar": "Contents",
   "toc_cell": false,
   "toc_position": {},
   "toc_section_display": true,
   "toc_window_display": false
  }
 },
 "nbformat": 4,
 "nbformat_minor": 2
}
